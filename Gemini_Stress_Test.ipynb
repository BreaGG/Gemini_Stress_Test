{
 "cells": [
  {
   "cell_type": "code",
   "execution_count": 28,
   "metadata": {
    "application/vnd.databricks.v1+cell": {
     "cellMetadata": {
      "byteLimit": 2048000,
      "rowLimit": 10000
     },
     "inputWidgets": {},
     "nuid": "927466bc-feb1-4a9b-bd51-f2c64165a1da",
     "showTitle": false,
     "title": ""
    }
   },
   "outputs": [],
   "source": [
    "# %pip install google-generativeai\n",
    "# %pip install pandas\n",
    "# %pip install scikit-learn\n",
    "# %pip install spacy\n",
    "# %pip install numpy\n",
    "# %pip install dotenv\n",
    "# %pip install torch\n",
    "# %pip install transformers"
   ]
  },
  {
   "cell_type": "code",
   "execution_count": 29,
   "metadata": {
    "application/vnd.databricks.v1+cell": {
     "cellMetadata": {
      "byteLimit": 2048000,
      "rowLimit": 10000
     },
     "inputWidgets": {},
     "nuid": "a183336a-e23d-4ed1-a9f3-f1ee8aca7e10",
     "showTitle": false,
     "title": ""
    }
   },
   "outputs": [
    {
     "name": "stdout",
     "output_type": "stream",
     "text": [
      "  % Total    % Received % Xferd  Average Speed   Time    Time     Time  Current\n",
      "                                 Dload  Upload   Total   Spent    Left  Speed\n",
      "  0     0    0     0    0     0      0      0 --:--:-- --:--:-- --:--:--     0"
     ]
    },
    {
     "name": "stderr",
     "output_type": "stream",
     "text": [
      "huggingface/tokenizers: The current process just got forked, after parallelism has already been used. Disabling parallelism to avoid deadlocks...\n",
      "To disable this warning, you can either:\n",
      "\t- Avoid using `tokenizers` before the fork if possible\n",
      "\t- Explicitly set the environment variable TOKENIZERS_PARALLELISM=(true | false)\n"
     ]
    },
    {
     "name": "stdout",
     "output_type": "stream",
     "text": [
      "100 66.0M  100 66.0M    0     0  15.4M      0  0:00:04  0:00:04 --:--:-- 15.5M\n",
      "chromosome1.fa already exists -- do you wish to overwrite (y or n)? "
     ]
    },
    {
     "name": "stderr",
     "output_type": "stream",
     "text": [
      "huggingface/tokenizers: The current process just got forked, after parallelism has already been used. Disabling parallelism to avoid deadlocks...\n",
      "To disable this warning, you can either:\n",
      "\t- Avoid using `tokenizers` before the fork if possible\n",
      "\t- Explicitly set the environment variable TOKENIZERS_PARALLELISM=(true | false)\n"
     ]
    },
    {
     "name": "stdout",
     "output_type": "stream",
     "text": [
      "^C\n"
     ]
    }
   ],
   "source": [
    "import requests\n",
    "\n",
    "# URL for Chromosome 1 in FASTA format\n",
    "url = 'ftp://ftp.ensembl.org/pub/release-105/fasta/homo_sapiens/dna/Homo_sapiens.GRCh38.dna.chromosome.1.fa.gz'\n",
    "\n",
    "# Download the file\n",
    "!curl {url} --output chromosome1.fa.gz\n",
    "\n",
    "# Unzip the file\n",
    "!gunzip chromosome1.fa.gz"
   ]
  },
  {
   "cell_type": "code",
   "execution_count": 33,
   "metadata": {
    "application/vnd.databricks.v1+cell": {
     "cellMetadata": {
      "byteLimit": 2048000,
      "rowLimit": 10000
     },
     "inputWidgets": {},
     "nuid": "47522eab-8be1-4ebd-be30-b30ad83187e7",
     "showTitle": false,
     "title": ""
    }
   },
   "outputs": [
    {
     "name": "stdout",
     "output_type": "stream",
     "text": [
      "Total nucleotides (tokens): 248956422\n"
     ]
    }
   ],
   "source": [
    "# Read the genome sequence from the FASTA file\n",
    "with open('chromosome1.fa', 'r') as file:\n",
    "    # Skip the header line\n",
    "    next(file)\n",
    "    # Read the sequence data\n",
    "    genome_sequence = file.read().replace('\\n', '')\n",
    "\n",
    "token_count = len(genome_sequence)\n",
    "print(f\"Total nucleotides (tokens): {token_count}\")"
   ]
  },
  {
   "cell_type": "code",
   "execution_count": 34,
   "metadata": {
    "application/vnd.databricks.v1+cell": {
     "cellMetadata": {
      "byteLimit": 2048000,
      "rowLimit": 10000
     },
     "inputWidgets": {},
     "nuid": "abd2a6ab-ec53-4223-b0b3-bb1b3a602b11",
     "showTitle": false,
     "title": ""
    }
   },
   "outputs": [],
   "source": [
    "import os\n",
    "from dotenv import load_dotenv\n",
    "import google.generativeai as genai\n",
    "\n",
    "# Load environment variables from .env file\n",
    "load_dotenv()\n",
    "\n",
    "# Configure API key from environment variable\n",
    "api_key = os.getenv('GENAI_API_KEY')\n",
    "genai.configure(api_key=api_key)"
   ]
  },
  {
   "cell_type": "code",
   "execution_count": 35,
   "metadata": {},
   "outputs": [],
   "source": [
    "# Create the model\n",
    "generation_config = {\n",
    "    \"temperature\": 0.8,\n",
    "    \"top_p\": 0.95,\n",
    "    \"max_output_tokens\": 5000,\n",
    "}\n",
    "\n",
    "geminiModel = genai.GenerativeModel(\n",
    "    model_name=\"gemini-1.5-flash\",\n",
    "    generation_config=generation_config,\n",
    ")"
   ]
  },
  {
   "cell_type": "code",
   "execution_count": 36,
   "metadata": {},
   "outputs": [
    {
     "name": "stdout",
     "output_type": "stream",
     "text": [
      "Response:\n",
      " ## Analysis of Human Genome Segment from Chromosome 1\n",
      "\n",
      "This segment appears to contain a mixture of coding and non-coding regions, with some interesting features. Let's break down the analysis:\n",
      "\n",
      "**1. Repetitive Sequences and Significance:**\n",
      "\n",
      "* **Alu elements:** The segment contains multiple instances of the \"Alu\" repetitive element, indicated by the repeated \"AACCCTAACCCTAACCCT\" sequences.  \n",
      "* **Significance:** Alu elements are short interspersed nuclear elements (SINEs) that are abundant in the human genome. They can have a significant impact on gene regulation and expression, sometimes acting as promoters or enhancers. They can also contribute to genomic instability and disease by causing mutations.  \n",
      "* **Other repetitive elements:** There are also other repetitive sequences within the segment, such as the \"CCCAACCCCAACCCCA\" sequence, which may be part of a different repetitive element.\n",
      "\n",
      "**2. Potential Gene Locations and Functions:**\n",
      "\n",
      "* **Gene prediction:**  While I cannot definitively identify gene locations without further analysis, the presence of coding sequences like \"GGGTCTGACCTGAGGAGA\" and \"TGCTGAGGAGAACGCAACTCCGCCG\" suggests the presence of at least one gene within the segment. \n",
      "* **Potential gene functions:** Based on the sequence and context, this gene could be involved in:\n",
      "    * **Transcriptional regulation:** The presence of multiple Alu elements suggests possible roles in gene expression control.\n",
      "    * **Immune system function:** The segment contains sequences similar to those found in genes related to the immune system.\n",
      "    * **Cell signaling:** The segment shows potential for encoding proteins involved in cellular communication.\n",
      "\n",
      "**3. Common Mutations or SNPs and Associated Diseases:**\n",
      "\n",
      "* **SNPs:**  The segment contains several regions that are highly polymorphic and could be hotspots for single nucleotide polymorphisms (SNPs).  \n",
      "* **Disease associations:**  Analyzing these SNPs for specific mutations and comparing them to databases could reveal associations with various diseases. Some possible associations include:\n",
      "    * **Cardiovascular disease:** Mutations in genes related to cholesterol metabolism and heart function are often associated with heart disease.\n",
      "    * **Immune disorders:**  SNPs in genes related to immune response could contribute to autoimmune diseases.\n",
      "    * **Cancer:**  Mutations in genes involved in cell cycle regulation and DNA repair are often associated with cancer development.\n",
      "\n",
      "**4. Notable Patterns of Medical Research Interest:**\n",
      "\n",
      "* **GC-rich regions:** The segment shows a higher than average GC content, which is often associated with genes that are highly expressed and involved in important cellular functions.\n",
      "* **Regions of high sequence conservation:** Certain regions of the segment show remarkable sequence conservation, suggesting they are functionally important. These conserved regions could contain regulatory elements or encode highly conserved protein domains.\n",
      "* **Potential for microRNA binding sites:** The segment contains sequences that could serve as binding sites for microRNAs, which are small non-coding RNAs that regulate gene expression.\n",
      "\n",
      "**Conclusion:**\n",
      "\n",
      "This human genome segment from Chromosome 1 presents a complex and potentially interesting region for further investigation. It contains repetitive elements, possible gene locations, and areas that could harbor SNPs associated with various diseases.  Detailed analysis using specialized tools and databases is necessary to fully understand its functional significance and potential medical implications. \n",
      "\n"
     ]
    }
   ],
   "source": [
    "# Prompt and response\n",
    "# Since the sequence is too large, let's take a segment for demonstration\n",
    "segment_length = 15000  # 15,000 nucleotides\n",
    "genome_segment = genome_sequence[:segment_length]\n",
    "\n",
    "# Update the prompt with the segment\n",
    "\n",
    "prompt = f\"\"\"\n",
    "You are a genomic analyst AI specializing in identifying patterns, mutations, and areas of interest in DNA sequences.\n",
    "\n",
    "Analyze the following human genome segment from Chromosome 1 and provide insights into:\n",
    "\n",
    "- Repetitive sequences and their significance.\n",
    "- Potential gene locations and their functions.\n",
    "- Common mutations or SNPs (Single Nucleotide Polymorphisms) and their associated diseases.\n",
    "- Any notable patterns that could be of medical research interest.\n",
    "\n",
    "Genome Segment:\n",
    "{genome_segment}\n",
    "\"\"\"\n",
    "\n",
    "response = geminiModel.generate_content(prompt)\n",
    "documentation = response.text\n",
    "print(\"Response:\\n\", documentation)"
   ]
  },
  {
   "cell_type": "code",
   "execution_count": 43,
   "metadata": {},
   "outputs": [],
   "source": [
    "from transformers import BertTokenizer, BertModel\n",
    "import torch\n",
    "import numpy as np\n",
    "from sklearn.metrics.pairwise import cosine_similarity\n",
    "\n",
    "# Load BERT model and tokenizer\n",
    "tokenizer = BertTokenizer.from_pretrained('bert-base-uncased')\n",
    "bertModel = BertModel.from_pretrained('bert-base-uncased')\n",
    "\n",
    "# Function to generate BERT embeddings\n",
    "def get_bert_embedding(text):\n",
    "    tokens = tokenizer(text, return_tensors='pt', truncation=True, padding=True)\n",
    "    with torch.no_grad():\n",
    "        output = bertModel(**tokens)\n",
    "    return output.last_hidden_state.mean(dim=1).numpy()\n",
    "\n",
    "# Calculate similarity using BERT embeddings\n",
    "def calculate_similarity_bert(text1, text2):\n",
    "    embedding1 = get_bert_embedding(text1)\n",
    "    embedding2 = get_bert_embedding(text2)\n",
    "    return cosine_similarity(embedding1, embedding2)[0][0]\n"
   ]
  },
  {
   "cell_type": "code",
   "execution_count": 44,
   "metadata": {},
   "outputs": [],
   "source": [
    "import spacy\n",
    "from sklearn.metrics.pairwise import cosine_similarity\n",
    "import numpy as np\n",
    "\n",
    "# Load spaCy model for word embeddings\n",
    "nlp = spacy.load(\"en_core_web_sm\")\n",
    "\n",
    "# Define a function to calculate semantic similarity\n",
    "def calculate_similarity(text1, text2):\n",
    "    doc1 = nlp(text1)\n",
    "    doc2 = nlp(text2)\n",
    "    \n",
    "    # Convert documents to vectors\n",
    "    vector1 = doc1.vector\n",
    "    vector2 = doc2.vector\n",
    "    \n",
    "    # Calculate cosine similarity\n",
    "    similarity = cosine_similarity([vector1], [vector2])[0][0]\n",
    "    return similarity"
   ]
  },
  {
   "cell_type": "code",
   "execution_count": 46,
   "metadata": {},
   "outputs": [
    {
     "name": "stdout",
     "output_type": "stream",
     "text": [
      "Keyword Coverage Score: 0.61\n"
     ]
    }
   ],
   "source": [
    "from collections import Counter\n",
    "\n",
    "def keyword_coverage(prompt, response):\n",
    "    prompt_words = prompt.lower().split()\n",
    "    response_words = response.lower().split()\n",
    "    \n",
    "    prompt_word_count = Counter(prompt_words)\n",
    "    response_word_count = Counter(response_words)\n",
    "    \n",
    "    coverage = sum(min(prompt_word_count[word], response_word_count[word]) for word in prompt_word_count) / len(prompt_words)\n",
    "    return coverage\n",
    "\n",
    "coverage_score = keyword_coverage(prompt, documentation)\n",
    "print(f\"Keyword Coverage Score: {coverage_score:.2f}\")"
   ]
  },
  {
   "cell_type": "code",
   "execution_count": 50,
   "metadata": {},
   "outputs": [
    {
     "name": "stdout",
     "output_type": "stream",
     "text": [
      "Overall Coherence Score: 0.80\n"
     ]
    }
   ],
   "source": [
    "def aggregate_coherence_score(similarity_score, coverage_score):\n",
    "    # Weighted sum of different metrics\n",
    "    return 0.7 * similarity_score +  0.3 * coverage_score\n",
    "\n",
    "# Get individual scores\n",
    "similarity_score = calculate_similarity_bert(prompt, documentation)\n",
    "coverage_score = keyword_coverage(prompt, documentation)\n",
    "\n",
    "# Aggregate overall coherence score\n",
    "overall_coherence_score = aggregate_coherence_score(similarity_score, coverage_score)\n",
    "print(f\"Overall Coherence Score: {overall_coherence_score:.2f}\")"
   ]
  },
  {
   "cell_type": "code",
   "execution_count": 24,
   "metadata": {},
   "outputs": [
    {
     "name": "stdout",
     "output_type": "stream",
     "text": [
      "Coherence Score: 0.89\n",
      "Coherence Score: 0.75\n",
      "The response is coherent with the prompt.\n"
     ]
    }
   ],
   "source": [
    "# Calculate and print the coherence score\n",
    "similarity_score_bert = calculate_similarity_bert(prompt, documentation)\n",
    "print(f\"Coherence Score: {similarity_score_bert:.2f}\")\n",
    "\n",
    "similarity_score = calculate_similarity(prompt, documentation)\n",
    "print(f\"Coherence Score: {similarity_score:.2f}\")\n",
    "\n",
    "# Set a threshold for coherence (you can adjust this based on experimentation)\n",
    "threshold = 0.7\n",
    "if similarity_score >= threshold:\n",
    "    print(\"The response is coherent with the prompt.\")\n",
    "else:\n",
    "    print(\"The response may lack coherence with the prompt. Consider reviewing the output.\")"
   ]
  },
  {
   "cell_type": "code",
   "execution_count": 11,
   "metadata": {},
   "outputs": [
    {
     "name": "stdout",
     "output_type": "stream",
     "text": [
      "Response:\n",
      " ## Reinforcement Learning: Learning by Doing\n",
      "\n",
      "Reinforcement learning (RL) is a type of machine learning where an **agent** learns to interact with its **environment** to achieve a **goal**. This learning process is achieved by receiving **rewards** for taking actions that lead to desired outcomes and **penalties** for taking actions that lead to undesirable outcomes. \n",
      "\n",
      "Think of it like training a dog. You give the dog a treat (reward) when it performs a desired action, like sitting. You might scold the dog (penalty) if it jumps on the couch. Through this process of trial and error, the dog learns to associate certain actions with rewards and others with penalties, leading to desired behavior.\n",
      "\n",
      "Here's a breakdown of key concepts:\n",
      "\n",
      "**1. Agent:** This is the learner, the AI system that interacts with the environment. It can be anything from a robot to a software program.\n",
      "\n",
      "**2. Environment:** This is the world the agent operates in. It can be a physical space, a simulated world, or even a complex abstract problem.\n",
      "\n",
      "**3. Actions:** These are the choices the agent can take within the environment. For example, a robot arm can move up, down, left, or right.\n",
      "\n",
      "**4. State:** This represents the current situation the agent is in. It can be a simple description of the environment or a complex set of data.\n",
      "\n",
      "**5. Reward:** This is the feedback the agent receives after taking an action. Positive rewards encourage the agent to repeat actions that lead to desirable outcomes. Negative rewards (penalties) discourage actions that lead to undesirable outcomes.\n",
      "\n",
      "**6. Goal:** This is the desired outcome the agent is trying to achieve. It can be something specific, like winning a game, or more general, like maximizing its cumulative reward.\n",
      "\n",
      "**The RL process:**\n",
      "\n",
      "1. **Initialization:** The agent starts in a specific state.\n",
      "2. **Action selection:** The agent chooses an action based on its current knowledge of the environment and its goal.\n",
      "3. **State transition:** The environment changes based on the action taken by the agent, leading to a new state.\n",
      "4. **Reward:** The agent receives a reward based on the new state.\n",
      "5. **Learning:** The agent uses the reward to update its knowledge about the environment and its actions, making better choices in the future.\n",
      "\n",
      "**Types of Reinforcement Learning:**\n",
      "\n",
      "* **Model-based:** The agent builds a model of the environment to predict the consequences of its actions.\n",
      "* **Model-free:** The agent learns directly from experience without building an explicit model of the environment.\n",
      "\n",
      "**Applications of Reinforcement Learning:**\n",
      "\n",
      "* **Robotics:** Training robots to perform complex tasks, like navigating a warehouse or assembling products.\n",
      "* **Gaming:** Developing AI agents that can play games at a superhuman level, like chess or Go.\n",
      "* **Finance:** Optimizing trading strategies and managing investment portfolios.\n",
      "* **Healthcare:** Developing personalized treatment plans and improving disease diagnosis.\n",
      "\n",
      "**Challenges of Reinforcement Learning:**\n",
      "\n",
      "* **Exploration vs. Exploitation:** The agent needs to balance exploring new actions to find better solutions and exploiting known actions to maximize its immediate reward.\n",
      "* **High dimensionality:** Real-world environments often have a large number of states and actions, making it challenging for the agent to learn effectively.\n",
      "* **Sparse rewards:** In some cases, rewards are only given after a long sequence of actions, making it difficult for the agent to learn.\n",
      "\n",
      "Overall, reinforcement learning is a powerful tool for solving complex problems where a clear goal and feedback mechanism are available. It allows agents to learn from experience and adapt to changing environments, making it a promising technology for various applications.\n",
      "\n",
      "Coherence Score: 0.59\n",
      "The response may lack coherence with the prompt. Consider reviewing the output.\n"
     ]
    }
   ],
   "source": [
    "# Prompt and response\n",
    "prompt = \"Explain the concept of reinforcement learning.\"\n",
    "response = geminiModel.generate_content(prompt)\n",
    "documentation = response.text\n",
    "print(\"Response:\\n\", documentation)\n",
    "\n",
    "# Calculate and print the coherence score\n",
    "similarity_score = calculate_similarity_bert(prompt, documentation)\n",
    "print(f\"Coherence Score: {similarity_score:.2f}\")\n",
    "\n",
    "# Set a threshold for coherence (you can adjust this based on experimentation)\n",
    "threshold = 0.7\n",
    "if similarity_score >= threshold:\n",
    "    print(\"The response is coherent with the prompt.\")\n",
    "else:\n",
    "    print(\"The response may lack coherence with the prompt. Consider reviewing the output.\")\n"
   ]
  },
  {
   "cell_type": "code",
   "execution_count": null,
   "metadata": {},
   "outputs": [],
   "source": [
    "print(\"Response:\\n\", documentation)\n",
    "\n",
    "# Calculate and print the coherence score\n",
    "similarity_score = calculate_similarity_bert(prompt, documentation)\n",
    "print(f\"Coherence Score: {similarity_score:.2f}\")\n",
    "\n",
    "# Set a threshold for coherence (you can adjust this based on experimentation)\n",
    "threshold = 0.7\n",
    "if similarity_score >= threshold:\n",
    "    print(\"The response is coherent with the prompt.\")\n",
    "else:\n",
    "    print(\"The response may lack coherence with the prompt. Consider reviewing the output.\")\n"
   ]
  },
  {
   "cell_type": "code",
   "execution_count": 54,
   "metadata": {},
   "outputs": [
    {
     "data": {
      "image/png": "[encoded data removed]",
      "text/plain": [
       "<Figure size 1000x500 with 1 Axes>"
      ]
     },
     "metadata": {},
     "output_type": "display_data"
    }
   ],
   "source": [
    "import matplotlib.pyplot as plt\n",
    "\n",
    "# Plot the similarity score and coverage score\n",
    "plt.figure(figsize=(10, 5))\n",
    "plt.bar(['Similarity Score', 'Coverage Score'], [similarity_score, coverage_score], color=['blue', 'green'])\n",
    "plt.ylim(0, 1)\n",
    "plt.xlabel('Metrics')\n",
    "plt.ylabel('Score')\n",
    "plt.title('Comparison of Similarity Score and Coverage Score')\n",
    "plt.show()\n"
   ]
  }
 ],
 "metadata": {
  "application/vnd.databricks.v1+notebook": {
   "dashboards": [
    {
     "elements": [],
     "globalVars": {},
     "guid": "",
     "layoutOption": {
      "grid": true,
      "stack": true
     },
     "nuid": "2bdc5fc7-7025-4f1d-9388-06a53d99004c",
     "origId": 3288467045714575,
     "title": "Untitled",
     "version": "DashboardViewV1",
     "width": 1024
    }
   ],
   "environmentMetadata": null,
   "language": "python",
   "notebookMetadata": {
    "pythonIndentUnit": 4
   },
   "notebookName": "Gemini Stress Test",
   "widgets": {}
  },
  "kernelspec": {
   "display_name": "GeminiStressTest",
   "language": "python",
   "name": "python3"
  },
  "language_info": {
   "codemirror_mode": {
    "name": "ipython",
    "version": 3
   },
   "file_extension": ".py",
   "mimetype": "text/x-python",
   "name": "python",
   "nbconvert_exporter": "python",
   "pygments_lexer": "ipython3",
   "version": "3.10.15"
  }
 },
 "nbformat": 4,
 "nbformat_minor": 0
}
