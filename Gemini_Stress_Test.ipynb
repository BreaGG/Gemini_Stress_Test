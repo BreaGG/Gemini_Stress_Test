{
 "cells": [
  {
   "cell_type": "code",
   "execution_count": 3,
   "metadata": {
    "application/vnd.databricks.v1+cell": {
     "cellMetadata": {
      "byteLimit": 2048000,
      "rowLimit": 10000
     },
     "inputWidgets": {},
     "nuid": "927466bc-feb1-4a9b-bd51-f2c64165a1da",
     "showTitle": false,
     "title": ""
    }
   },
   "outputs": [],
   "source": [
    "# %pip install google-generativeai\n",
    "# %pip install pandas\n",
    "# %pip install sklearn\n",
    "# %pip install spacy\n",
    "# %pip install numpy\n",
    "# %pip install dotenv"
   ]
  },
  {
   "cell_type": "code",
   "execution_count": 4,
   "metadata": {
    "application/vnd.databricks.v1+cell": {
     "cellMetadata": {
      "byteLimit": 2048000,
      "rowLimit": 10000
     },
     "inputWidgets": {},
     "nuid": "a183336a-e23d-4ed1-a9f3-f1ee8aca7e10",
     "showTitle": false,
     "title": ""
    }
   },
   "outputs": [
    {
     "name": "stdout",
     "output_type": "stream",
     "text": [
      "  % Total    % Received % Xferd  Average Speed   Time    Time     Time  Current\n",
      "                                 Dload  Upload   Total   Spent    Left  Speed\n",
      "100 66.0M  100 66.0M    0     0  4191k      0  0:00:16  0:00:16 --:--:-- 6274k0     0  3921k      0  0:00:17  0:00:03  0:00:14 3921k\n"
     ]
    }
   ],
   "source": [
    "import requests\n",
    "\n",
    "# URL for Chromosome 1 in FASTA format\n",
    "url = 'ftp://ftp.ensembl.org/pub/release-105/fasta/homo_sapiens/dna/Homo_sapiens.GRCh38.dna.chromosome.1.fa.gz'\n",
    "\n",
    "# Download the file\n",
    "!curl {url} --output chromosome1.fa.gz\n",
    "\n",
    "# Unzip the file\n",
    "!gunzip chromosome1.fa.gz"
   ]
  },
  {
   "cell_type": "code",
   "execution_count": 5,
   "metadata": {
    "application/vnd.databricks.v1+cell": {
     "cellMetadata": {
      "byteLimit": 2048000,
      "rowLimit": 10000
     },
     "inputWidgets": {},
     "nuid": "47522eab-8be1-4ebd-be30-b30ad83187e7",
     "showTitle": false,
     "title": ""
    }
   },
   "outputs": [],
   "source": [
    "# Read the genome sequence from the FASTA file\n",
    "with open('chromosome1.fa', 'r') as file:\n",
    "    # Skip the header line\n",
    "    next(file)\n",
    "    # Read the sequence data\n",
    "    genome_sequence = file.read().replace('\\n', '')"
   ]
  },
  {
   "cell_type": "code",
   "execution_count": 6,
   "metadata": {
    "application/vnd.databricks.v1+cell": {
     "cellMetadata": {
      "byteLimit": 2048000,
      "rowLimit": 10000
     },
     "inputWidgets": {},
     "nuid": "ecb3a4a9-c713-471c-8346-86aab8f5b203",
     "showTitle": false,
     "title": ""
    }
   },
   "outputs": [
    {
     "name": "stdout",
     "output_type": "stream",
     "text": [
      "Total nucleotides (tokens): 248956422\n"
     ]
    }
   ],
   "source": [
    "token_count = len(genome_sequence)\n",
    "print(f\"Total nucleotides (tokens): {token_count}\")"
   ]
  },
  {
   "cell_type": "code",
   "execution_count": 7,
   "metadata": {
    "application/vnd.databricks.v1+cell": {
     "cellMetadata": {
      "byteLimit": 2048000,
      "rowLimit": 10000
     },
     "inputWidgets": {},
     "nuid": "abd2a6ab-ec53-4223-b0b3-bb1b3a602b11",
     "showTitle": false,
     "title": ""
    }
   },
   "outputs": [
    {
     "name": "stderr",
     "output_type": "stream",
     "text": [
      "/opt/anaconda3/envs/GeminiStressTest/lib/python3.10/site-packages/tqdm/auto.py:21: TqdmWarning: IProgress not found. Please update jupyter and ipywidgets. See https://ipywidgets.readthedocs.io/en/stable/user_install.html\n",
      "  from .autonotebook import tqdm as notebook_tqdm\n"
     ]
    }
   ],
   "source": [
    "import os\n",
    "from dotenv import load_dotenv\n",
    "import google.generativeai as genai\n",
    "\n",
    "# Load environment variables from .env file\n",
    "load_dotenv()\n",
    "\n",
    "# Configure API key from environment variable\n",
    "api_key = os.getenv('GENAI_API_KEY')\n",
    "genai.configure(api_key=api_key)"
   ]
  },
  {
   "cell_type": "code",
   "execution_count": 8,
   "metadata": {},
   "outputs": [],
   "source": [
    "# Create the model\n",
    "generation_config = {\n",
    "    \"temperature\": 0.8,\n",
    "    \"top_p\": 0.95,\n",
    "    \"max_output_tokens\": 5000,\n",
    "}\n",
    "\n",
    "model = genai.GenerativeModel(\n",
    "    model_name=\"gemini-1.5-flash\",\n",
    "    generation_config=generation_config,\n",
    ")"
   ]
  },
  {
   "cell_type": "code",
   "execution_count": 9,
   "metadata": {},
   "outputs": [],
   "source": [
    "import spacy\n",
    "from sklearn.metrics.pairwise import cosine_similarity\n",
    "import numpy as np\n",
    "\n",
    "# Load spaCy model for word embeddings\n",
    "nlp = spacy.load(\"en_core_web_sm\")\n",
    "\n",
    "# Define a function to calculate semantic similarity\n",
    "def calculate_similarity(text1, text2):\n",
    "    doc1 = nlp(text1)\n",
    "    doc2 = nlp(text2)\n",
    "    \n",
    "    # Convert documents to vectors\n",
    "    vector1 = doc1.vector\n",
    "    vector2 = doc2.vector\n",
    "    \n",
    "    # Calculate cosine similarity\n",
    "    similarity = cosine_similarity([vector1], [vector2])[0][0]\n",
    "    return similarity\n"
   ]
  },
  {
   "cell_type": "code",
   "execution_count": 10,
   "metadata": {},
   "outputs": [
    {
     "name": "stdout",
     "output_type": "stream",
     "text": [
      "Response:\n",
      " ## Analysis of Human Genome Segment from Chromosome 1:\n",
      "\n",
      "This segment appears to be a complex region containing a mix of repetitive elements, potential gene locations, and areas of interest for medical research.\n",
      "\n",
      "**1. Repetitive Sequences and Significance:**\n",
      "\n",
      "* **Alu elements:** Multiple instances of the Alu sequence, a short interspersed nuclear element (SINE), are present. Alu elements are common in the human genome, often associated with:\n",
      "    * **Chromosomal rearrangements:** Their presence can contribute to deletions, insertions, and translocations.\n",
      "    * **Gene regulation:** They can act as enhancers or silencers of nearby genes.\n",
      "    * **Disease susceptibility:** Variations in Alu elements are linked to certain diseases like cancer.\n",
      "* **Microsatellites:** Several stretches of repetitive sequences like \"GG\" and \"CA\" are present. These are called microsatellites, also known as Simple Sequence Repeats (SSRs).\n",
      "    * **Genetic markers:** Microsatellites are highly polymorphic, making them useful as genetic markers for linkage analysis and population studies.\n",
      "    * **Disease association:** Variations in microsatellite length can be linked to certain diseases like Huntington's disease.\n",
      "\n",
      "**2. Potential Gene Locations and Functions:**\n",
      "\n",
      "* **Promoter regions:** Several regions with potential promoter sequences (e.g., \"TATA\" box, \"CAAT\" box) are present. These regions are crucial for initiating gene transcription.\n",
      "* **Exonic sequences:** The presence of \"ATG\" (start codon) and \"TAA\" (stop codon) suggests the possibility of protein-coding regions within this segment.\n",
      "* **Intronic sequences:** Regions between the exons likely represent introns, which are non-coding sequences removed during mRNA processing.\n",
      "\n",
      "**3. Common Mutations or SNPs (Single Nucleotide Polymorphisms) and Associated Diseases:**\n",
      "\n",
      "* **SNPs:** Several positions within the segment show variations compared to the reference genome. These are likely SNPs, common variations in the human genome.\n",
      "* **Disease association:** Specific SNPs are linked to various diseases. However, without knowing the exact reference sequence and the specific variations in this segment, we cannot determine their disease association.\n",
      "\n",
      "**4. Notable Patterns that could be of Medical Research Interest:**\n",
      "\n",
      "* **GC-rich regions:** The segment contains several stretches of high GC content. These regions are often associated with:\n",
      "    * **Gene regulation:** They can be binding sites for transcription factors, influencing gene expression.\n",
      "    * **Chromatin structure:** They can contribute to the organization of DNA into higher-order structures.\n",
      "* **Potential regulatory elements:** The presence of various repetitive sequences and potential promoter regions suggests the possibility of regulatory elements influencing gene expression in this region.\n",
      "* **Disease-related mutations:** The presence of SNPs and potential coding regions warrants further investigation to identify any disease-associated mutations.\n",
      "\n",
      "**Overall:**\n",
      "\n",
      "The provided segment from Chromosome 1 is a complex region with a mix of repetitive sequences, potential gene locations, and areas of interest for medical research. Further analysis is required to understand the specific functions of these elements, identify potential mutations, and explore their role in disease susceptibility. \n",
      "\n",
      "**Important Note:** This analysis is based on a limited segment of DNA. A complete genomic analysis, including comparison to a reference sequence, is necessary for a comprehensive understanding of this region and its potential implications. \n",
      "\n",
      "Coherence Score: 0.76\n",
      "The response is coherent with the prompt.\n"
     ]
    }
   ],
   "source": [
    "# Prompt and response\n",
    "# Since the sequence is too large, let's take a segment for demonstration\n",
    "segment_length = 15000  # 15,000 nucleotides\n",
    "genome_segment = genome_sequence[:segment_length]\n",
    "\n",
    "# Update the prompt with the segment\n",
    "prompt = f\"\"\"\n",
    "You are a genomic analyst AI specializing in identifying patterns, mutations, and areas of interest in DNA sequences.\n",
    "\n",
    "Analyze the following human genome segment from Chromosome 1 and provide insights into:\n",
    "\n",
    "- Repetitive sequences and their significance.\n",
    "- Potential gene locations and their functions.\n",
    "- Common mutations or SNPs (Single Nucleotide Polymorphisms) and their associated diseases.\n",
    "- Any notable patterns that could be of medical research interest.\n",
    "\n",
    "Genome Segment:\n",
    "{genome_segment}\n",
    "\"\"\"\n",
    "\n",
    "response = model.generate_content(prompt)\n",
    "documentation = response.text\n",
    "print(\"Response:\\n\", documentation)\n",
    "\n",
    "# Calculate and print the coherence score\n",
    "similarity_score = calculate_similarity(prompt, documentation)\n",
    "print(f\"Coherence Score: {similarity_score:.2f}\")\n",
    "\n",
    "# Set a threshold for coherence (you can adjust this based on experimentation)\n",
    "threshold = 0.7\n",
    "if similarity_score >= threshold:\n",
    "    print(\"The response is coherent with the prompt.\")\n",
    "else:\n",
    "    print(\"The response may lack coherence with the prompt. Consider reviewing the output.\")\n"
   ]
  },
  {
   "cell_type": "code",
   "execution_count": 11,
   "metadata": {},
   "outputs": [
    {
     "name": "stdout",
     "output_type": "stream",
     "text": [
      "Response:\n",
      " ## Reinforcement Learning: A Guide for the Curious\n",
      "\n",
      "Imagine you're teaching a dog a new trick. You don't give it instructions, but instead, you reward it with treats whenever it performs the desired action. Over time, the dog learns to associate the action with the reward, and eventually, it masters the trick. This is the basic principle behind **reinforcement learning (RL)**.\n",
      "\n",
      "**In essence, RL is a type of machine learning where an agent learns to interact with an environment to maximize its rewards.**  Instead of being explicitly programmed, the agent learns through trial and error, guided by feedback from the environment. \n",
      "\n",
      "Here's a breakdown of key concepts:\n",
      "\n",
      "**1. The Agent:** The learner, the entity that interacts with the environment. This could be a robot, a software program, or even a human.\n",
      "\n",
      "**2. The Environment:** The world the agent interacts with. This can be anything from a simulated game world to a real-world scenario like a stock market.\n",
      "\n",
      "**3. State:** The current situation or condition of the environment. For example, in a game, the state might be the position of all the pieces on the board.\n",
      "\n",
      "**4. Action:** The choices the agent can take within a state. For example, in a game, the action might be to move a piece to a specific square.\n",
      "\n",
      "**5. Reward:** The feedback the environment provides to the agent. This could be positive (like a treat for the dog) or negative (like losing points in a game).\n",
      "\n",
      "**6. Policy:** The strategy the agent uses to choose actions in each state. This is the core of the learning process, and it's what allows the agent to make decisions based on its past experiences.\n",
      "\n",
      "**How does RL work?**\n",
      "\n",
      "1. **Exploration:** The agent explores the environment, trying different actions and observing the rewards it receives.\n",
      "2. **Exploitation:** Based on its experience, the agent learns to choose actions that maximize its rewards.\n",
      "3. **Iteration:** The agent continually refines its policy by learning from its successes and failures, gradually improving its performance.\n",
      "\n",
      "**Applications of RL:**\n",
      "\n",
      "Reinforcement learning has a wide range of applications, including:\n",
      "\n",
      "* **Robotics:** Controlling robots to perform tasks like navigating, grasping objects, and assembling products.\n",
      "* **Game playing:** Creating AI agents that can play games like chess, Go, and video games at a superhuman level.\n",
      "* **Finance:** Optimizing trading strategies and managing investment portfolios.\n",
      "* **Healthcare:** Designing personalized treatment plans and improving patient outcomes.\n",
      "* **Autonomous driving:** Training self-driving cars to navigate safely and efficiently.\n",
      "\n",
      "**Key Challenges:**\n",
      "\n",
      "* **Exploration-exploitation trade-off:** Balancing the need to explore new actions with the need to exploit existing knowledge.\n",
      "* **Curse of dimensionality:** Dealing with the complexity of environments with many possible states and actions.\n",
      "* **Data efficiency:** Training RL agents can require vast amounts of data, which can be expensive and time-consuming.\n",
      "\n",
      "Despite these challenges, RL is a rapidly developing field with enormous potential. As the technology continues to advance, we can expect to see even more innovative applications of RL in the future.\n",
      "\n",
      "Coherence Score: 0.59\n",
      "The response may lack coherence with the prompt. Consider reviewing the output.\n"
     ]
    }
   ],
   "source": [
    "# Prompt and response\n",
    "prompt = \"Explain the concept of reinforcement learning.\"\n",
    "response = model.generate_content(prompt)\n",
    "documentation = response.text\n",
    "print(\"Response:\\n\", documentation)\n",
    "\n",
    "# Calculate and print the coherence score\n",
    "similarity_score = calculate_similarity(prompt, documentation)\n",
    "print(f\"Coherence Score: {similarity_score:.2f}\")\n",
    "\n",
    "# Set a threshold for coherence (you can adjust this based on experimentation)\n",
    "threshold = 0.7\n",
    "if similarity_score >= threshold:\n",
    "    print(\"The response is coherent with the prompt.\")\n",
    "else:\n",
    "    print(\"The response may lack coherence with the prompt. Consider reviewing the output.\")\n"
   ]
  }
 ],
 "metadata": {
  "application/vnd.databricks.v1+notebook": {
   "dashboards": [
    {
     "elements": [],
     "globalVars": {},
     "guid": "",
     "layoutOption": {
      "grid": true,
      "stack": true
     },
     "nuid": "2bdc5fc7-7025-4f1d-9388-06a53d99004c",
     "origId": 3288467045714575,
     "title": "Untitled",
     "version": "DashboardViewV1",
     "width": 1024
    }
   ],
   "environmentMetadata": null,
   "language": "python",
   "notebookMetadata": {
    "pythonIndentUnit": 4
   },
   "notebookName": "Gemini Stress Test",
   "widgets": {}
  },
  "kernelspec": {
   "display_name": "GeminiStressTest",
   "language": "python",
   "name": "python3"
  },
  "language_info": {
   "codemirror_mode": {
    "name": "ipython",
    "version": 3
   },
   "file_extension": ".py",
   "mimetype": "text/x-python",
   "name": "python",
   "nbconvert_exporter": "python",
   "pygments_lexer": "ipython3",
   "version": "3.10.15"
  }
 },
 "nbformat": 4,
 "nbformat_minor": 0
}
